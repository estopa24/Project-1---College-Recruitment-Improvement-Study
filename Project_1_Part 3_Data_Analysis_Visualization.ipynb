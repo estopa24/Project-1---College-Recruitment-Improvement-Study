{
 "cells": [
  {
   "cell_type": "markdown",
   "id": "c3b2b0b9-4c13-4231-aeef-2d8f71f9ab47",
   "metadata": {},
   "source": [
    "**Elizabeth Stopa**"
   ]
  },
  {
   "cell_type": "markdown",
   "id": "6f3058ae-5b27-43a9-82b7-679f97d65f0b",
   "metadata": {},
   "source": [
    "**02/27/2024**"
   ]
  },
  {
   "cell_type": "markdown",
   "id": "3f98c2f5-5e40-4a9e-a12e-87a924aa5f81",
   "metadata": {},
   "source": [
    "## Project #1  Part 3: Data Analysis and Visualization"
   ]
  },
  {
   "cell_type": "markdown",
   "id": "e703452f-0b40-4487-b1ef-23cfe59805c1",
   "metadata": {},
   "source": [
    "**Questions for Dataset:**\n",
    "\n",
    "1. What were the main motivations students took a computing class at CCM?\n",
    "2. What are the top sources of how students heard about CCM? Show a bar chart of this field.\n",
    "3. Which computing class are most non-major students interested in (if applicable), ranking from the class with the most counts of interest to the least?\n",
    "4. How many students from each major (the count) are enrolled in a computer literacy course? Show a bar graph representing the count for each major."
   ]
  },
  {
   "cell_type": "markdown",
   "id": "96711877-d5cc-420d-9894-d4cbe3e4325b",
   "metadata": {},
   "source": [
    "*Importing pandas and pyplot from matplotlib to use for data analysis and visualization.*"
   ]
  },
  {
   "cell_type": "code",
   "execution_count": 131,
   "id": "e376253c-9fe0-4422-9331-cba788184829",
   "metadata": {},
   "outputs": [],
   "source": [
    "import pandas as pd\n",
    "from matplotlib import pyplot as plt"
   ]
  },
  {
   "cell_type": "markdown",
   "id": "a3a43615-f8dc-40a9-9469-ee7285340951",
   "metadata": {},
   "source": [
    "    "
   ]
  },
  {
   "cell_type": "markdown",
   "id": "8f27f3de-5155-489d-9392-454e59f01a6f",
   "metadata": {},
   "source": [
    "*Reading in the previous dataset that was cleaned.*"
   ]
  },
  {
   "cell_type": "code",
   "execution_count": 132,
   "id": "7faca4b6-9baf-4f61-83dd-c0c2ab8c75ea",
   "metadata": {},
   "outputs": [],
   "source": [
    "df = pd.read_csv('C:\\\\Users\\\\Elizabeth\\\\Downloads\\\\Project #1 Data Cleaning: Cleaned Dataset.csv', names=['major', 'ccm_web', 'social_media', 'community_event', 'fam_friend', 'current_ccm_student', 'ccm_alumni', 'hs_teacher', 'hs_counselor', 'in_app_advise', 'employer', 'billboard', 'tv', 'radio', 'home_mail', 'other', 'computer_skills', 'curiosity', 'career_advance', 'career_change', 'prof_dev', 'job_displacement', 'financial', 'relocation', 'it_certificate', 'required', 'web_dev_class', 'cybersecurity_class', 'app_dev_class', 'data_analytics_class', 'machine_learning_ai_class', 'computer_programming_class', 'game_design_class', 'hardware_install_repair_class'])"
   ]
  },
  {
   "cell_type": "markdown",
   "id": "ea8ae098-0884-49bd-8f62-d441f03851c1",
   "metadata": {},
   "source": [
    "   "
   ]
  },
  {
   "cell_type": "markdown",
   "id": "58115ba2-6f75-4a7a-a473-ba78fc0c747f",
   "metadata": {},
   "source": [
    "*Looking at the beginning and ends of the dataset to make sure that it looks normal and like expected, and that there are no issues.*"
   ]
  },
  {
   "cell_type": "code",
   "execution_count": 133,
   "id": "0d0dd1e2-b3ec-47de-92ce-9eba7687528e",
   "metadata": {},
   "outputs": [
    {
     "data": {
      "text/html": [
       "<div>\n",
       "<style scoped>\n",
       "    .dataframe tbody tr th:only-of-type {\n",
       "        vertical-align: middle;\n",
       "    }\n",
       "\n",
       "    .dataframe tbody tr th {\n",
       "        vertical-align: top;\n",
       "    }\n",
       "\n",
       "    .dataframe thead th {\n",
       "        text-align: right;\n",
       "    }\n",
       "</style>\n",
       "<table border=\"1\" class=\"dataframe\">\n",
       "  <thead>\n",
       "    <tr style=\"text-align: right;\">\n",
       "      <th></th>\n",
       "      <th>major</th>\n",
       "      <th>ccm_web</th>\n",
       "      <th>social_media</th>\n",
       "      <th>community_event</th>\n",
       "      <th>fam_friend</th>\n",
       "      <th>current_ccm_student</th>\n",
       "      <th>ccm_alumni</th>\n",
       "      <th>hs_teacher</th>\n",
       "      <th>hs_counselor</th>\n",
       "      <th>in_app_advise</th>\n",
       "      <th>...</th>\n",
       "      <th>it_certificate</th>\n",
       "      <th>required</th>\n",
       "      <th>web_dev_class</th>\n",
       "      <th>cybersecurity_class</th>\n",
       "      <th>app_dev_class</th>\n",
       "      <th>data_analytics_class</th>\n",
       "      <th>machine_learning_ai_class</th>\n",
       "      <th>computer_programming_class</th>\n",
       "      <th>game_design_class</th>\n",
       "      <th>hardware_install_repair_class</th>\n",
       "    </tr>\n",
       "  </thead>\n",
       "  <tbody>\n",
       "    <tr>\n",
       "      <th>NaN</th>\n",
       "      <td>major</td>\n",
       "      <td>ccm_web</td>\n",
       "      <td>social_media</td>\n",
       "      <td>community_event</td>\n",
       "      <td>fam_friend</td>\n",
       "      <td>current_ccm_student</td>\n",
       "      <td>ccm_alumni</td>\n",
       "      <td>hs_teacher</td>\n",
       "      <td>hs_counselor</td>\n",
       "      <td>in_app_advise</td>\n",
       "      <td>...</td>\n",
       "      <td>it_certificate</td>\n",
       "      <td>required</td>\n",
       "      <td>web_dev_class</td>\n",
       "      <td>cybersecurity_class</td>\n",
       "      <td>app_dev_class</td>\n",
       "      <td>data_analytics_class</td>\n",
       "      <td>machine_learning_ai_class</td>\n",
       "      <td>computer_programming_class</td>\n",
       "      <td>game_design_class</td>\n",
       "      <td>hardware_install_repair_class</td>\n",
       "    </tr>\n",
       "    <tr>\n",
       "      <th>0.0</th>\n",
       "      <td>Nursing</td>\n",
       "      <td>Yes</td>\n",
       "      <td>No</td>\n",
       "      <td>No</td>\n",
       "      <td>No</td>\n",
       "      <td>No</td>\n",
       "      <td>No</td>\n",
       "      <td>No</td>\n",
       "      <td>No</td>\n",
       "      <td>No</td>\n",
       "      <td>...</td>\n",
       "      <td>No</td>\n",
       "      <td>Yes</td>\n",
       "      <td>No</td>\n",
       "      <td>No</td>\n",
       "      <td>No</td>\n",
       "      <td>No</td>\n",
       "      <td>No</td>\n",
       "      <td>No</td>\n",
       "      <td>No</td>\n",
       "      <td>No</td>\n",
       "    </tr>\n",
       "    <tr>\n",
       "      <th>2.0</th>\n",
       "      <td>Liberal Arts</td>\n",
       "      <td>No</td>\n",
       "      <td>No</td>\n",
       "      <td>No</td>\n",
       "      <td>Yes</td>\n",
       "      <td>Yes</td>\n",
       "      <td>Yes</td>\n",
       "      <td>Yes</td>\n",
       "      <td>Yes</td>\n",
       "      <td>No</td>\n",
       "      <td>...</td>\n",
       "      <td>No</td>\n",
       "      <td>Yes</td>\n",
       "      <td>No</td>\n",
       "      <td>No</td>\n",
       "      <td>No</td>\n",
       "      <td>No</td>\n",
       "      <td>No</td>\n",
       "      <td>No</td>\n",
       "      <td>No</td>\n",
       "      <td>No</td>\n",
       "    </tr>\n",
       "    <tr>\n",
       "      <th>3.0</th>\n",
       "      <td>Liberal Arts</td>\n",
       "      <td>Yes</td>\n",
       "      <td>Yes</td>\n",
       "      <td>No</td>\n",
       "      <td>Yes</td>\n",
       "      <td>Yes</td>\n",
       "      <td>Yes</td>\n",
       "      <td>Yes</td>\n",
       "      <td>Yes</td>\n",
       "      <td>No</td>\n",
       "      <td>...</td>\n",
       "      <td>No</td>\n",
       "      <td>Yes</td>\n",
       "      <td>No</td>\n",
       "      <td>No</td>\n",
       "      <td>No</td>\n",
       "      <td>No</td>\n",
       "      <td>No</td>\n",
       "      <td>No</td>\n",
       "      <td>No</td>\n",
       "      <td>No</td>\n",
       "    </tr>\n",
       "    <tr>\n",
       "      <th>4.0</th>\n",
       "      <td>Liberal Arts</td>\n",
       "      <td>No</td>\n",
       "      <td>No</td>\n",
       "      <td>No</td>\n",
       "      <td>Yes</td>\n",
       "      <td>No</td>\n",
       "      <td>No</td>\n",
       "      <td>No</td>\n",
       "      <td>No</td>\n",
       "      <td>No</td>\n",
       "      <td>...</td>\n",
       "      <td>No</td>\n",
       "      <td>Yes</td>\n",
       "      <td>Yes</td>\n",
       "      <td>Yes</td>\n",
       "      <td>Yes</td>\n",
       "      <td>No</td>\n",
       "      <td>Yes</td>\n",
       "      <td>Yes</td>\n",
       "      <td>Yes</td>\n",
       "      <td>Yes</td>\n",
       "    </tr>\n",
       "  </tbody>\n",
       "</table>\n",
       "<p>5 rows × 34 columns</p>\n",
       "</div>"
      ],
      "text/plain": [
       "            major  ccm_web  social_media  community_event  fam_friend  \\\n",
       "NaN         major  ccm_web  social_media  community_event  fam_friend   \n",
       "0.0       Nursing      Yes            No               No          No   \n",
       "2.0  Liberal Arts       No            No               No         Yes   \n",
       "3.0  Liberal Arts      Yes           Yes               No         Yes   \n",
       "4.0  Liberal Arts       No            No               No         Yes   \n",
       "\n",
       "     current_ccm_student  ccm_alumni  hs_teacher  hs_counselor  in_app_advise  \\\n",
       "NaN  current_ccm_student  ccm_alumni  hs_teacher  hs_counselor  in_app_advise   \n",
       "0.0                   No          No          No            No             No   \n",
       "2.0                  Yes         Yes         Yes           Yes             No   \n",
       "3.0                  Yes         Yes         Yes           Yes             No   \n",
       "4.0                   No          No          No            No             No   \n",
       "\n",
       "     ...  it_certificate  required  web_dev_class  cybersecurity_class  \\\n",
       "NaN  ...  it_certificate  required  web_dev_class  cybersecurity_class   \n",
       "0.0  ...              No       Yes             No                   No   \n",
       "2.0  ...              No       Yes             No                   No   \n",
       "3.0  ...              No       Yes             No                   No   \n",
       "4.0  ...              No       Yes            Yes                  Yes   \n",
       "\n",
       "     app_dev_class  data_analytics_class  machine_learning_ai_class  \\\n",
       "NaN  app_dev_class  data_analytics_class  machine_learning_ai_class   \n",
       "0.0             No                    No                         No   \n",
       "2.0             No                    No                         No   \n",
       "3.0             No                    No                         No   \n",
       "4.0            Yes                    No                        Yes   \n",
       "\n",
       "     computer_programming_class  game_design_class  \\\n",
       "NaN  computer_programming_class  game_design_class   \n",
       "0.0                          No                 No   \n",
       "2.0                          No                 No   \n",
       "3.0                          No                 No   \n",
       "4.0                         Yes                Yes   \n",
       "\n",
       "     hardware_install_repair_class  \n",
       "NaN  hardware_install_repair_class  \n",
       "0.0                             No  \n",
       "2.0                             No  \n",
       "3.0                             No  \n",
       "4.0                            Yes  \n",
       "\n",
       "[5 rows x 34 columns]"
      ]
     },
     "execution_count": 133,
     "metadata": {},
     "output_type": "execute_result"
    }
   ],
   "source": [
    "df.head()"
   ]
  },
  {
   "cell_type": "code",
   "execution_count": 134,
   "id": "161a008e-1f5d-482b-8794-2badaaf97783",
   "metadata": {},
   "outputs": [
    {
     "data": {
      "text/html": [
       "<div>\n",
       "<style scoped>\n",
       "    .dataframe tbody tr th:only-of-type {\n",
       "        vertical-align: middle;\n",
       "    }\n",
       "\n",
       "    .dataframe tbody tr th {\n",
       "        vertical-align: top;\n",
       "    }\n",
       "\n",
       "    .dataframe thead th {\n",
       "        text-align: right;\n",
       "    }\n",
       "</style>\n",
       "<table border=\"1\" class=\"dataframe\">\n",
       "  <thead>\n",
       "    <tr style=\"text-align: right;\">\n",
       "      <th></th>\n",
       "      <th>major</th>\n",
       "      <th>ccm_web</th>\n",
       "      <th>social_media</th>\n",
       "      <th>community_event</th>\n",
       "      <th>fam_friend</th>\n",
       "      <th>current_ccm_student</th>\n",
       "      <th>ccm_alumni</th>\n",
       "      <th>hs_teacher</th>\n",
       "      <th>hs_counselor</th>\n",
       "      <th>in_app_advise</th>\n",
       "      <th>...</th>\n",
       "      <th>it_certificate</th>\n",
       "      <th>required</th>\n",
       "      <th>web_dev_class</th>\n",
       "      <th>cybersecurity_class</th>\n",
       "      <th>app_dev_class</th>\n",
       "      <th>data_analytics_class</th>\n",
       "      <th>machine_learning_ai_class</th>\n",
       "      <th>computer_programming_class</th>\n",
       "      <th>game_design_class</th>\n",
       "      <th>hardware_install_repair_class</th>\n",
       "    </tr>\n",
       "  </thead>\n",
       "  <tbody>\n",
       "    <tr>\n",
       "      <th>96.0</th>\n",
       "      <td>Radiography</td>\n",
       "      <td>Yes</td>\n",
       "      <td>No</td>\n",
       "      <td>No</td>\n",
       "      <td>Yes</td>\n",
       "      <td>No</td>\n",
       "      <td>Yes</td>\n",
       "      <td>No</td>\n",
       "      <td>No</td>\n",
       "      <td>No</td>\n",
       "      <td>...</td>\n",
       "      <td>No</td>\n",
       "      <td>Yes</td>\n",
       "      <td>No</td>\n",
       "      <td>Yes</td>\n",
       "      <td>No</td>\n",
       "      <td>Yes</td>\n",
       "      <td>Yes</td>\n",
       "      <td>Yes</td>\n",
       "      <td>No</td>\n",
       "      <td>Yes</td>\n",
       "    </tr>\n",
       "    <tr>\n",
       "      <th>97.0</th>\n",
       "      <td>Radiography</td>\n",
       "      <td>No</td>\n",
       "      <td>No</td>\n",
       "      <td>No</td>\n",
       "      <td>Yes</td>\n",
       "      <td>No</td>\n",
       "      <td>No</td>\n",
       "      <td>No</td>\n",
       "      <td>Yes</td>\n",
       "      <td>No</td>\n",
       "      <td>...</td>\n",
       "      <td>No</td>\n",
       "      <td>Yes</td>\n",
       "      <td>No</td>\n",
       "      <td>No</td>\n",
       "      <td>No</td>\n",
       "      <td>No</td>\n",
       "      <td>No</td>\n",
       "      <td>No</td>\n",
       "      <td>No</td>\n",
       "      <td>No</td>\n",
       "    </tr>\n",
       "    <tr>\n",
       "      <th>98.0</th>\n",
       "      <td>Liberal Arts</td>\n",
       "      <td>No</td>\n",
       "      <td>No</td>\n",
       "      <td>No</td>\n",
       "      <td>No</td>\n",
       "      <td>No</td>\n",
       "      <td>No</td>\n",
       "      <td>Yes</td>\n",
       "      <td>No</td>\n",
       "      <td>No</td>\n",
       "      <td>...</td>\n",
       "      <td>No</td>\n",
       "      <td>Yes</td>\n",
       "      <td>No</td>\n",
       "      <td>Yes</td>\n",
       "      <td>No</td>\n",
       "      <td>No</td>\n",
       "      <td>No</td>\n",
       "      <td>No</td>\n",
       "      <td>No</td>\n",
       "      <td>No</td>\n",
       "    </tr>\n",
       "    <tr>\n",
       "      <th>99.0</th>\n",
       "      <td>Liberal Arts</td>\n",
       "      <td>No</td>\n",
       "      <td>No</td>\n",
       "      <td>No</td>\n",
       "      <td>No</td>\n",
       "      <td>No</td>\n",
       "      <td>No</td>\n",
       "      <td>No</td>\n",
       "      <td>No</td>\n",
       "      <td>No</td>\n",
       "      <td>...</td>\n",
       "      <td>No</td>\n",
       "      <td>Yes</td>\n",
       "      <td>No</td>\n",
       "      <td>Yes</td>\n",
       "      <td>No</td>\n",
       "      <td>No</td>\n",
       "      <td>No</td>\n",
       "      <td>No</td>\n",
       "      <td>No</td>\n",
       "      <td>No</td>\n",
       "    </tr>\n",
       "    <tr>\n",
       "      <th>100.0</th>\n",
       "      <td>Liberal Arts</td>\n",
       "      <td>No</td>\n",
       "      <td>No</td>\n",
       "      <td>No</td>\n",
       "      <td>Yes</td>\n",
       "      <td>No</td>\n",
       "      <td>No</td>\n",
       "      <td>Yes</td>\n",
       "      <td>Yes</td>\n",
       "      <td>No</td>\n",
       "      <td>...</td>\n",
       "      <td>No</td>\n",
       "      <td>Yes</td>\n",
       "      <td>No</td>\n",
       "      <td>No</td>\n",
       "      <td>No</td>\n",
       "      <td>No</td>\n",
       "      <td>No</td>\n",
       "      <td>No</td>\n",
       "      <td>No</td>\n",
       "      <td>No</td>\n",
       "    </tr>\n",
       "  </tbody>\n",
       "</table>\n",
       "<p>5 rows × 34 columns</p>\n",
       "</div>"
      ],
      "text/plain": [
       "              major ccm_web social_media community_event fam_friend  \\\n",
       "96.0    Radiography     Yes           No              No        Yes   \n",
       "97.0    Radiography      No           No              No        Yes   \n",
       "98.0   Liberal Arts      No           No              No         No   \n",
       "99.0   Liberal Arts      No           No              No         No   \n",
       "100.0  Liberal Arts      No           No              No        Yes   \n",
       "\n",
       "      current_ccm_student ccm_alumni hs_teacher hs_counselor in_app_advise  \\\n",
       "96.0                   No        Yes         No           No            No   \n",
       "97.0                   No         No         No          Yes            No   \n",
       "98.0                   No         No        Yes           No            No   \n",
       "99.0                   No         No         No           No            No   \n",
       "100.0                  No         No        Yes          Yes            No   \n",
       "\n",
       "       ... it_certificate required web_dev_class cybersecurity_class  \\\n",
       "96.0   ...             No      Yes            No                 Yes   \n",
       "97.0   ...             No      Yes            No                  No   \n",
       "98.0   ...             No      Yes            No                 Yes   \n",
       "99.0   ...             No      Yes            No                 Yes   \n",
       "100.0  ...             No      Yes            No                  No   \n",
       "\n",
       "      app_dev_class data_analytics_class machine_learning_ai_class  \\\n",
       "96.0             No                  Yes                       Yes   \n",
       "97.0             No                   No                        No   \n",
       "98.0             No                   No                        No   \n",
       "99.0             No                   No                        No   \n",
       "100.0            No                   No                        No   \n",
       "\n",
       "      computer_programming_class game_design_class  \\\n",
       "96.0                         Yes                No   \n",
       "97.0                          No                No   \n",
       "98.0                          No                No   \n",
       "99.0                          No                No   \n",
       "100.0                         No                No   \n",
       "\n",
       "      hardware_install_repair_class  \n",
       "96.0                            Yes  \n",
       "97.0                             No  \n",
       "98.0                             No  \n",
       "99.0                             No  \n",
       "100.0                            No  \n",
       "\n",
       "[5 rows x 34 columns]"
      ]
     },
     "execution_count": 134,
     "metadata": {},
     "output_type": "execute_result"
    }
   ],
   "source": [
    "df.tail()"
   ]
  },
  {
   "cell_type": "markdown",
   "id": "17c37e57-e34a-4394-a21a-213e8093e66c",
   "metadata": {},
   "source": [
    "*Looking at all the columns in the dataset to make sure they are all included and as expected.*"
   ]
  },
  {
   "cell_type": "code",
   "execution_count": 136,
   "id": "6a7e4560-a262-4c35-af44-d58ec4f9fc6a",
   "metadata": {},
   "outputs": [
    {
     "data": {
      "text/plain": [
       "Index(['major', 'ccm_web', 'social_media', 'community_event', 'fam_friend',\n",
       "       'current_ccm_student', 'ccm_alumni', 'hs_teacher', 'hs_counselor',\n",
       "       'in_app_advise', 'employer', 'billboard', 'tv', 'radio', 'home_mail',\n",
       "       'other', 'computer_skills', 'curiosity', 'career_advance',\n",
       "       'career_change', 'prof_dev', 'job_displacement', 'financial',\n",
       "       'relocation', 'it_certificate', 'required', 'web_dev_class',\n",
       "       'cybersecurity_class', 'app_dev_class', 'data_analytics_class',\n",
       "       'machine_learning_ai_class', 'computer_programming_class',\n",
       "       'game_design_class', 'hardware_install_repair_class'],\n",
       "      dtype='object')"
      ]
     },
     "execution_count": 136,
     "metadata": {},
     "output_type": "execute_result"
    }
   ],
   "source": [
    "df.columns"
   ]
  },
  {
   "cell_type": "markdown",
   "id": "d5534cc4-121e-497e-aa69-4a0f4518dd67",
   "metadata": {},
   "source": [
    "**Question #1: What were the main motivations students took a computing class at CCM?**"
   ]
  },
  {
   "cell_type": "markdown",
   "id": "5b09c7cf-dd24-4970-97ec-c18d62e8074c",
   "metadata": {},
   "source": [
    "*Using the groupby function to find the count of 'Yes' and 'No' for each column that corresponds to each question asked about the motivations of the student taking a computing class, whether that specific motivation applies to the student or not.*"
   ]
  },
  {
   "cell_type": "code",
   "execution_count": 137,
   "id": "777e19cd-52c8-4d51-83c5-74a0e8c670e8",
   "metadata": {},
   "outputs": [
    {
     "data": {
      "text/plain": [
       "computer_skills\n",
       "No                 34\n",
       "Yes                36\n",
       "computer_skills     1\n",
       "Name: computer_skills, dtype: int64"
      ]
     },
     "execution_count": 137,
     "metadata": {},
     "output_type": "execute_result"
    }
   ],
   "source": [
    "df.groupby('computer_skills').computer_skills.count()"
   ]
  },
  {
   "cell_type": "code",
   "execution_count": 138,
   "id": "b6bc0e01-7017-4ad4-adf2-5920fa17da33",
   "metadata": {},
   "outputs": [
    {
     "data": {
      "text/plain": [
       "curiosity\n",
       "No           42\n",
       "Yes          28\n",
       "curiosity     1\n",
       "Name: curiosity, dtype: int64"
      ]
     },
     "execution_count": 138,
     "metadata": {},
     "output_type": "execute_result"
    }
   ],
   "source": [
    "df.groupby('curiosity').curiosity.count()"
   ]
  },
  {
   "cell_type": "code",
   "execution_count": 139,
   "id": "19291298-68e1-43e7-bc20-477fa3a809a0",
   "metadata": {},
   "outputs": [
    {
     "data": {
      "text/plain": [
       "career_advance\n",
       "No                41\n",
       "Yes               29\n",
       "career_advance     1\n",
       "Name: career_advance, dtype: int64"
      ]
     },
     "execution_count": 139,
     "metadata": {},
     "output_type": "execute_result"
    }
   ],
   "source": [
    "df.groupby('career_advance').career_advance.count()"
   ]
  },
  {
   "cell_type": "code",
   "execution_count": 140,
   "id": "22e4318b-afbf-4e08-84b8-f0a73fc87be9",
   "metadata": {},
   "outputs": [
    {
     "data": {
      "text/plain": [
       "career_change\n",
       "No               60\n",
       "Yes              10\n",
       "career_change     1\n",
       "Name: career_change, dtype: int64"
      ]
     },
     "execution_count": 140,
     "metadata": {},
     "output_type": "execute_result"
    }
   ],
   "source": [
    "df.groupby('career_change').career_change.count()"
   ]
  },
  {
   "cell_type": "code",
   "execution_count": 141,
   "id": "19baccae-aee4-41d3-bb76-b5306aba0855",
   "metadata": {},
   "outputs": [
    {
     "data": {
      "text/plain": [
       "prof_dev\n",
       "No          44\n",
       "Yes         26\n",
       "prof_dev     1\n",
       "Name: prof_dev, dtype: int64"
      ]
     },
     "execution_count": 141,
     "metadata": {},
     "output_type": "execute_result"
    }
   ],
   "source": [
    "df.groupby('prof_dev').prof_dev.count()"
   ]
  },
  {
   "cell_type": "code",
   "execution_count": 142,
   "id": "1dacb5ab-9e77-441e-863f-79863f42e7c7",
   "metadata": {},
   "outputs": [
    {
     "data": {
      "text/plain": [
       "job_displacement\n",
       "No                  63\n",
       "Yes                  7\n",
       "job_displacement     1\n",
       "Name: job_displacement, dtype: int64"
      ]
     },
     "execution_count": 142,
     "metadata": {},
     "output_type": "execute_result"
    }
   ],
   "source": [
    "df.groupby('job_displacement').job_displacement.count()"
   ]
  },
  {
   "cell_type": "code",
   "execution_count": 143,
   "id": "c67c6e3c-2e9b-4954-89bf-c430196ef5b2",
   "metadata": {},
   "outputs": [
    {
     "data": {
      "text/plain": [
       "financial\n",
       "No           60\n",
       "Yes          10\n",
       "financial     1\n",
       "Name: financial, dtype: int64"
      ]
     },
     "execution_count": 143,
     "metadata": {},
     "output_type": "execute_result"
    }
   ],
   "source": [
    "df.groupby('financial').financial.count()"
   ]
  },
  {
   "cell_type": "code",
   "execution_count": 144,
   "id": "4bf1a199-0f27-462a-897a-ac1b921fd2ce",
   "metadata": {},
   "outputs": [
    {
     "data": {
      "text/plain": [
       "relocation\n",
       "No            67\n",
       "Yes            3\n",
       "relocation     1\n",
       "Name: relocation, dtype: int64"
      ]
     },
     "execution_count": 144,
     "metadata": {},
     "output_type": "execute_result"
    }
   ],
   "source": [
    "df.groupby('relocation').relocation.count()"
   ]
  },
  {
   "cell_type": "code",
   "execution_count": 145,
   "id": "24075c72-b9bd-4f56-994b-eb0906c9e094",
   "metadata": {},
   "outputs": [
    {
     "data": {
      "text/plain": [
       "it_certificate\n",
       "No                66\n",
       "Yes                4\n",
       "it_certificate     1\n",
       "Name: it_certificate, dtype: int64"
      ]
     },
     "execution_count": 145,
     "metadata": {},
     "output_type": "execute_result"
    }
   ],
   "source": [
    "df.groupby('it_certificate').it_certificate.count()"
   ]
  },
  {
   "cell_type": "code",
   "execution_count": 146,
   "id": "25a036f3-5d5d-498c-901c-9fcd6b2bae29",
   "metadata": {},
   "outputs": [
    {
     "data": {
      "text/plain": [
       "required\n",
       "No           8\n",
       "Yes         62\n",
       "required     1\n",
       "Name: required, dtype: int64"
      ]
     },
     "execution_count": 146,
     "metadata": {},
     "output_type": "execute_result"
    }
   ],
   "source": [
    "df.groupby('required').required.count()"
   ]
  },
  {
   "cell_type": "markdown",
   "id": "d48f2e87-fec0-42b8-abd7-2061417dfe07",
   "metadata": {},
   "source": [
    "   "
   ]
  },
  {
   "cell_type": "markdown",
   "id": "bf161ef0-d439-4e02-9894-c45428a4f7b7",
   "metadata": {},
   "source": [
    "*Summary of the 'Yes' and 'No' counts for each column/motivation.*"
   ]
  },
  {
   "cell_type": "markdown",
   "id": "cbb76a9d-3770-4a31-aa76-8373b7e2a3c0",
   "metadata": {},
   "source": [
    "**To keep current in computing skills: 36 Yes, 34 No**\n",
    "\n",
    "Curiosity: 28 Yes, 42 No\n",
    "\n",
    "**Personal Enrichment: 29 Yes, 41 No**\n",
    "\n",
    "**Career Advancement: 29 Yes, 41 No**\n",
    "\n",
    "Career Change: 10 Yes, 60 No\n",
    "\n",
    "Professional Development: 26 Yes, 44 No\n",
    "\n",
    "Job Displacement: 7 Yes, 63 No\n",
    "\n",
    "Financial: 10 Yes, 60 No\n",
    "\n",
    "Relocation: 3 Yes, 67 No\n",
    "\n",
    "IT Industry Certifications: 4 Yes, 66 No\n",
    "\n",
    "**Required: 62 Yes, 8 No**\n"
   ]
  },
  {
   "cell_type": "markdown",
   "id": "1a58e944-0969-47af-8c97-d950618444ea",
   "metadata": {},
   "source": [
    "   "
   ]
  },
  {
   "cell_type": "markdown",
   "id": "dd8c8ace-6fce-4eef-b9c3-3098425951b9",
   "metadata": {},
   "source": [
    "**Answer:    The top three motivations that students had to take a computing class at CCM was that 'The class was required', 'To keep current in computing skills', and a tie between 'For personal enrichment' and 'Career advancement'.**"
   ]
  },
  {
   "cell_type": "markdown",
   "id": "4cf96cca-9bf0-43d5-8345-6ed8b9490df2",
   "metadata": {},
   "source": [
    "   "
   ]
  },
  {
   "cell_type": "markdown",
   "id": "20edd868-30ce-4017-a99e-e9d1332aa694",
   "metadata": {},
   "source": [
    "**Question #2: What are the top sources of how students heard about CCM? Show a bar chart of this field.**"
   ]
  },
  {
   "cell_type": "markdown",
   "id": "fe1c13ae-4320-4e15-a4ea-92d68f8ecab8",
   "metadata": {},
   "source": [
    "*Using the groupby function to find the count of 'Yes' and 'No' for each column that corresponds to each question asked about the sources where the students heard about CCM, whether that specific source applies to the student or not.*"
   ]
  },
  {
   "cell_type": "code",
   "execution_count": 147,
   "id": "175ec90d-992e-459d-85e1-98031c9f008f",
   "metadata": {},
   "outputs": [
    {
     "data": {
      "text/plain": [
       "ccm_web\n",
       "No         49\n",
       "Yes        21\n",
       "ccm_web     1\n",
       "Name: ccm_web, dtype: int64"
      ]
     },
     "execution_count": 147,
     "metadata": {},
     "output_type": "execute_result"
    }
   ],
   "source": [
    "df.groupby('ccm_web').ccm_web.count()"
   ]
  },
  {
   "cell_type": "code",
   "execution_count": 148,
   "id": "12d5713a-809e-4065-a0cf-f2f6488b32cd",
   "metadata": {},
   "outputs": [
    {
     "data": {
      "text/plain": [
       "social_media\n",
       "No              55\n",
       "Yes             15\n",
       "social_media     1\n",
       "Name: social_media, dtype: int64"
      ]
     },
     "execution_count": 148,
     "metadata": {},
     "output_type": "execute_result"
    }
   ],
   "source": [
    "df.groupby('social_media').social_media.count()"
   ]
  },
  {
   "cell_type": "code",
   "execution_count": 149,
   "id": "6ee4287b-20d2-4e91-aec7-a5979a6ed736",
   "metadata": {},
   "outputs": [
    {
     "data": {
      "text/plain": [
       "community_event\n",
       "No                 58\n",
       "Yes                12\n",
       "community_event     1\n",
       "Name: community_event, dtype: int64"
      ]
     },
     "execution_count": 149,
     "metadata": {},
     "output_type": "execute_result"
    }
   ],
   "source": [
    "df.groupby('community_event').community_event.count()"
   ]
  },
  {
   "cell_type": "code",
   "execution_count": 150,
   "id": "5339a1c9-c94c-409b-bb93-ec7b08159817",
   "metadata": {},
   "outputs": [
    {
     "data": {
      "text/plain": [
       "fam_friend\n",
       "No            17\n",
       "Yes           53\n",
       "fam_friend     1\n",
       "Name: fam_friend, dtype: int64"
      ]
     },
     "execution_count": 150,
     "metadata": {},
     "output_type": "execute_result"
    }
   ],
   "source": [
    "df.groupby('fam_friend').fam_friend.count()"
   ]
  },
  {
   "cell_type": "code",
   "execution_count": 151,
   "id": "bc93c943-facf-4178-9771-2529f2c2baf9",
   "metadata": {},
   "outputs": [
    {
     "data": {
      "text/plain": [
       "current_ccm_student\n",
       "No                     38\n",
       "Yes                    32\n",
       "current_ccm_student     1\n",
       "Name: current_ccm_student, dtype: int64"
      ]
     },
     "execution_count": 151,
     "metadata": {},
     "output_type": "execute_result"
    }
   ],
   "source": [
    "df.groupby('current_ccm_student').current_ccm_student.count()"
   ]
  },
  {
   "cell_type": "code",
   "execution_count": 152,
   "id": "0b3b6186-de94-40c8-9f70-54286001aa36",
   "metadata": {},
   "outputs": [
    {
     "data": {
      "text/plain": [
       "ccm_alumni\n",
       "No            43\n",
       "Yes           27\n",
       "ccm_alumni     1\n",
       "Name: ccm_alumni, dtype: int64"
      ]
     },
     "execution_count": 152,
     "metadata": {},
     "output_type": "execute_result"
    }
   ],
   "source": [
    "df.groupby('ccm_alumni').ccm_alumni.count()"
   ]
  },
  {
   "cell_type": "code",
   "execution_count": 153,
   "id": "1713a1f3-2258-4c4a-b41d-06d7b5f88439",
   "metadata": {},
   "outputs": [
    {
     "data": {
      "text/plain": [
       "hs_teacher\n",
       "No            39\n",
       "Yes           31\n",
       "hs_teacher     1\n",
       "Name: hs_teacher, dtype: int64"
      ]
     },
     "execution_count": 153,
     "metadata": {},
     "output_type": "execute_result"
    }
   ],
   "source": [
    "df.groupby('hs_teacher').hs_teacher.count()"
   ]
  },
  {
   "cell_type": "code",
   "execution_count": 154,
   "id": "17e5c6d1-1e4b-4731-af45-20c5362cac50",
   "metadata": {},
   "outputs": [
    {
     "data": {
      "text/plain": [
       "hs_counselor\n",
       "No              35\n",
       "Yes             35\n",
       "hs_counselor     1\n",
       "Name: hs_counselor, dtype: int64"
      ]
     },
     "execution_count": 154,
     "metadata": {},
     "output_type": "execute_result"
    }
   ],
   "source": [
    "df.groupby('hs_counselor').hs_counselor.count()"
   ]
  },
  {
   "cell_type": "code",
   "execution_count": 155,
   "id": "9357da86-2f43-4b44-bb9b-8f2539cd30d8",
   "metadata": {},
   "outputs": [
    {
     "data": {
      "text/plain": [
       "in_app_advise\n",
       "No               64\n",
       "Yes               6\n",
       "in_app_advise     1\n",
       "Name: in_app_advise, dtype: int64"
      ]
     },
     "execution_count": 155,
     "metadata": {},
     "output_type": "execute_result"
    }
   ],
   "source": [
    "df.groupby('in_app_advise').in_app_advise.count()"
   ]
  },
  {
   "cell_type": "code",
   "execution_count": 156,
   "id": "94c2c0d0-7b45-4145-af18-f565e7ab8cdd",
   "metadata": {},
   "outputs": [
    {
     "data": {
      "text/plain": [
       "employer\n",
       "No          68\n",
       "Yes          2\n",
       "employer     1\n",
       "Name: employer, dtype: int64"
      ]
     },
     "execution_count": 156,
     "metadata": {},
     "output_type": "execute_result"
    }
   ],
   "source": [
    "df.groupby('employer').employer.count()"
   ]
  },
  {
   "cell_type": "code",
   "execution_count": 157,
   "id": "442cabee-7d87-40c1-99a9-819210a763d5",
   "metadata": {},
   "outputs": [
    {
     "data": {
      "text/plain": [
       "billboard\n",
       "No           61\n",
       "Yes           9\n",
       "billboard     1\n",
       "Name: billboard, dtype: int64"
      ]
     },
     "execution_count": 157,
     "metadata": {},
     "output_type": "execute_result"
    }
   ],
   "source": [
    "df.groupby('billboard').billboard.count()"
   ]
  },
  {
   "cell_type": "code",
   "execution_count": 158,
   "id": "76568bee-8487-4807-81bb-cd30c75bc980",
   "metadata": {},
   "outputs": [
    {
     "data": {
      "text/plain": [
       "tv\n",
       "No     67\n",
       "Yes     3\n",
       "tv      1\n",
       "Name: tv, dtype: int64"
      ]
     },
     "execution_count": 158,
     "metadata": {},
     "output_type": "execute_result"
    }
   ],
   "source": [
    "df.groupby('tv').tv.count()"
   ]
  },
  {
   "cell_type": "code",
   "execution_count": 159,
   "id": "2d55ffce-292f-44c8-8f09-2a05c4a62075",
   "metadata": {},
   "outputs": [
    {
     "data": {
      "text/plain": [
       "radio\n",
       "No       68\n",
       "Yes       2\n",
       "radio     1\n",
       "Name: radio, dtype: int64"
      ]
     },
     "execution_count": 159,
     "metadata": {},
     "output_type": "execute_result"
    }
   ],
   "source": [
    "df.groupby('radio').radio.count()"
   ]
  },
  {
   "cell_type": "code",
   "execution_count": 160,
   "id": "dc0dc7ee-368d-4f4b-8a2b-9ea737595c71",
   "metadata": {},
   "outputs": [
    {
     "data": {
      "text/plain": [
       "home_mail\n",
       "No           58\n",
       "Yes          12\n",
       "home_mail     1\n",
       "Name: home_mail, dtype: int64"
      ]
     },
     "execution_count": 160,
     "metadata": {},
     "output_type": "execute_result"
    }
   ],
   "source": [
    "df.groupby('home_mail').home_mail.count()"
   ]
  },
  {
   "cell_type": "code",
   "execution_count": 161,
   "id": "05672bbf-1834-4400-915a-32929cd55700",
   "metadata": {},
   "outputs": [
    {
     "data": {
      "text/plain": [
       "other\n",
       "No       61\n",
       "Yes       9\n",
       "other     1\n",
       "Name: other, dtype: int64"
      ]
     },
     "execution_count": 161,
     "metadata": {},
     "output_type": "execute_result"
    }
   ],
   "source": [
    "df.groupby('other').other.count()"
   ]
  },
  {
   "cell_type": "markdown",
   "id": "95f231fd-76c9-46f6-8033-7a78794d05fd",
   "metadata": {},
   "source": [
    "   "
   ]
  },
  {
   "cell_type": "markdown",
   "id": "b86c59d1-c536-42f0-9f6f-b3d21fcc4d2a",
   "metadata": {},
   "source": [
    "*Summary of the 'Yes' and 'No' counts for each column/source.*"
   ]
  },
  {
   "cell_type": "markdown",
   "id": "b900d6c6-120b-42ea-a043-042127c64270",
   "metadata": {},
   "source": [
    "CCM Web site: 21 Yes, 49 No\n",
    "\n",
    "Social Media: 15 Yes, 55 No\n",
    "\n",
    "Community Event: 12 Yes, 58 No\n",
    "\n",
    "**Family member or friend: 53 Yes, 17 No**\n",
    "\n",
    "**Current CCM student: 32 Yes, 38 No**\n",
    "\n",
    "CCM Alumni: 27 Yes, 43 No\n",
    "\n",
    "High School Teacher: 31 Yes, 39 No\n",
    "\n",
    "**High School Counselor: 35 Yes, 35 No**\n",
    "\n",
    "In-app advertisement: 6 Yes, 64 No\n",
    "\n",
    "Employer: 2 Yes, 68 No\n",
    "\n",
    "Billboard: 9 Yes, 61 No\n",
    "\n",
    "Television: 3 Yes, 67 No\n",
    "\n",
    "Radio: 2 Yes, 68 No\n",
    "\n",
    "Home mailer: 12 Yes, 58 No\n",
    "\n",
    "Other: 9 Yes, 61 No"
   ]
  },
  {
   "cell_type": "markdown",
   "id": "8d9cae27-c64c-4f42-a03e-2784cb1b2854",
   "metadata": {},
   "source": [
    "**Answer: The top 3 sources of how students heard about CCM was from 'A family member or friend', from 'A high school counselor', and from 'A current CCM student'.**"
   ]
  },
  {
   "cell_type": "markdown",
   "id": "b8c36598-1963-471f-94b4-a6ea5226f2fb",
   "metadata": {},
   "source": [
    "   "
   ]
  },
  {
   "cell_type": "markdown",
   "id": "953b9ec4-7917-4a6b-a99c-d27fa0b8f257",
   "metadata": {},
   "source": [
    "*Creating a new dataframe, dropping all the columns that I will not use for the bar chart. Then creating a chart to include the columns in df2 and to count the instances of 'Yes' in each of these columns to use for the bar chart.*"
   ]
  },
  {
   "cell_type": "code",
   "execution_count": 162,
   "id": "2c425800-fdab-4316-9123-a085da8c0a83",
   "metadata": {},
   "outputs": [
    {
     "data": {
      "text/plain": [
       "ccm_web                21\n",
       "social_media           15\n",
       "community_event        12\n",
       "fam_friend             53\n",
       "current_ccm_student    32\n",
       "ccm_alumni             27\n",
       "hs_teacher             31\n",
       "hs_counselor           35\n",
       "in_app_advise           6\n",
       "employer                2\n",
       "billboard               9\n",
       "tv                      3\n",
       "radio                   2\n",
       "home_mail              12\n",
       "other                   9\n",
       "dtype: int64"
      ]
     },
     "execution_count": 162,
     "metadata": {},
     "output_type": "execute_result"
    }
   ],
   "source": [
    "df2 = df.drop(['major', \n",
    "               'computer_skills', \n",
    "               'curiosity', \n",
    "               'career_advance', \n",
    "               'career_change', \n",
    "               'prof_dev', \n",
    "               'job_displacement', \n",
    "               'financial', \n",
    "               'relocation', \n",
    "               'it_certificate', \n",
    "               'required', \n",
    "               'web_dev_class', \n",
    "               'cybersecurity_class', \n",
    "               'app_dev_class', \n",
    "               'data_analytics_class', \n",
    "               'machine_learning_ai_class', \n",
    "               'computer_programming_class', \n",
    "               'game_design_class', \n",
    "               'hardware_install_repair_class'], axis=1)\n",
    "value_to_count = 'Yes'\n",
    "value_counts = df2.apply(lambda col: col.eq(value_to_count).sum())\n",
    "value_counts"
   ]
  },
  {
   "cell_type": "markdown",
   "id": "1e1cd8c0-6693-47de-9ba9-7178b1f665c3",
   "metadata": {},
   "source": [
    "   "
   ]
  },
  {
   "cell_type": "markdown",
   "id": "2b9a30f3-dfbe-4f43-8e00-b4f88df41486",
   "metadata": {},
   "source": [
    "*Plotting all the listed sources of hearing about CCM in a bar chart to visualize which sources were more successful in reaching students than others.*"
   ]
  },
  {
   "cell_type": "code",
   "execution_count": 180,
   "id": "39deac3e-5935-46e0-8262-033957e44c3c",
   "metadata": {},
   "outputs": [
    {
     "data": {
      "image/png": "[encoded data removed]",
      "text/plain": [
       "<Figure size 640x480 with 1 Axes>"
      ]
     },
     "metadata": {},
     "output_type": "display_data"
    }
   ],
   "source": [
    "colors = ['red', 'green', 'blue', 'pink', 'purple', 'orange', 'brown', 'gray', 'cyan', 'magenta', 'plum', 'gold', 'rosybrown', 'silver', 'teal']\n",
    "plt.bar(value_counts.index, value_counts.values, color=colors)\n",
    "plt.title(\"Sources Where Students Have Heard About CCM\")\n",
    "plt.xlabel(\"Sources\")\n",
    "plt.ylabel(\"Number of Students\")\n",
    "plt.xticks(rotation=45, ha='right') \n",
    "plt.tight_layout()"
   ]
  },
  {
   "cell_type": "markdown",
   "id": "ef1848a9-90ae-49c6-beb7-f1c667d35a96",
   "metadata": {},
   "source": [
    "   "
   ]
  },
  {
   "cell_type": "markdown",
   "id": "02e7c9d9-77cd-4abe-8d50-8dfe92a54aa6",
   "metadata": {},
   "source": [
    "**Question #3: Which computing class are most non-major students interested in (if applicable), ranking from the class with the most counts of interest to the least?**"
   ]
  },
  {
   "cell_type": "markdown",
   "id": "39e1b4cd-192f-4b9c-9599-ee8fa18193a8",
   "metadata": {},
   "source": [
    "*Using the groupby function to find the count of 'Yes' and 'No' for each column that corresponds to each question asked about the computing classes these students might be interested in, whether the student would be interested in taking that specific class or not.*"
   ]
  },
  {
   "cell_type": "code",
   "execution_count": 164,
   "id": "1920521e-5c45-4077-a9c4-2cac24705b36",
   "metadata": {},
   "outputs": [
    {
     "data": {
      "text/plain": [
       "web_dev_class\n",
       "No               54\n",
       "Yes              16\n",
       "web_dev_class     1\n",
       "Name: web_dev_class, dtype: int64"
      ]
     },
     "execution_count": 164,
     "metadata": {},
     "output_type": "execute_result"
    }
   ],
   "source": [
    "df.groupby('web_dev_class').web_dev_class.count()"
   ]
  },
  {
   "cell_type": "code",
   "execution_count": 165,
   "id": "8a0c22f2-e0c7-4f11-824c-130279cf9317",
   "metadata": {},
   "outputs": [
    {
     "data": {
      "text/plain": [
       "cybersecurity_class\n",
       "No                     41\n",
       "Yes                    29\n",
       "cybersecurity_class     1\n",
       "Name: cybersecurity_class, dtype: int64"
      ]
     },
     "execution_count": 165,
     "metadata": {},
     "output_type": "execute_result"
    }
   ],
   "source": [
    "df.groupby('cybersecurity_class').cybersecurity_class.count()"
   ]
  },
  {
   "cell_type": "code",
   "execution_count": 166,
   "id": "b1323513-d41c-4310-912d-5d297ce37f7d",
   "metadata": {},
   "outputs": [
    {
     "data": {
      "text/plain": [
       "app_dev_class\n",
       "No               55\n",
       "Yes              15\n",
       "app_dev_class     1\n",
       "Name: app_dev_class, dtype: int64"
      ]
     },
     "execution_count": 166,
     "metadata": {},
     "output_type": "execute_result"
    }
   ],
   "source": [
    "df.groupby('app_dev_class').app_dev_class.count()"
   ]
  },
  {
   "cell_type": "code",
   "execution_count": 167,
   "id": "8dcc02e3-57e1-490a-89c5-07c7dce22cf4",
   "metadata": {},
   "outputs": [
    {
     "data": {
      "text/plain": [
       "data_analytics_class\n",
       "No                      55\n",
       "Yes                     15\n",
       "data_analytics_class     1\n",
       "Name: data_analytics_class, dtype: int64"
      ]
     },
     "execution_count": 167,
     "metadata": {},
     "output_type": "execute_result"
    }
   ],
   "source": [
    "df.groupby('data_analytics_class').data_analytics_class.count()"
   ]
  },
  {
   "cell_type": "code",
   "execution_count": 168,
   "id": "75f795d6-0af6-4a2e-81f9-543ddf44817b",
   "metadata": {},
   "outputs": [
    {
     "data": {
      "text/plain": [
       "machine_learning_ai_class\n",
       "No                           56\n",
       "Yes                          14\n",
       "machine_learning_ai_class     1\n",
       "Name: machine_learning_ai_class, dtype: int64"
      ]
     },
     "execution_count": 168,
     "metadata": {},
     "output_type": "execute_result"
    }
   ],
   "source": [
    "df.groupby('machine_learning_ai_class').machine_learning_ai_class.count()"
   ]
  },
  {
   "cell_type": "code",
   "execution_count": 169,
   "id": "afa238cf-f0f3-4d43-9b2c-c4616d6db070",
   "metadata": {},
   "outputs": [
    {
     "data": {
      "text/plain": [
       "computer_programming_class\n",
       "No                            56\n",
       "Yes                           14\n",
       "computer_programming_class     1\n",
       "Name: computer_programming_class, dtype: int64"
      ]
     },
     "execution_count": 169,
     "metadata": {},
     "output_type": "execute_result"
    }
   ],
   "source": [
    "df.groupby('computer_programming_class').computer_programming_class.count()"
   ]
  },
  {
   "cell_type": "code",
   "execution_count": 170,
   "id": "ad41833c-acab-495b-862d-f65032076251",
   "metadata": {},
   "outputs": [
    {
     "data": {
      "text/plain": [
       "game_design_class\n",
       "No                   52\n",
       "Yes                  18\n",
       "game_design_class     1\n",
       "Name: game_design_class, dtype: int64"
      ]
     },
     "execution_count": 170,
     "metadata": {},
     "output_type": "execute_result"
    }
   ],
   "source": [
    "df.groupby('game_design_class').game_design_class.count()"
   ]
  },
  {
   "cell_type": "code",
   "execution_count": 171,
   "id": "260a404f-42d0-47e7-9a94-bb3b347884fb",
   "metadata": {},
   "outputs": [
    {
     "data": {
      "text/plain": [
       "hardware_install_repair_class\n",
       "No                               55\n",
       "Yes                              15\n",
       "hardware_install_repair_class     1\n",
       "Name: hardware_install_repair_class, dtype: int64"
      ]
     },
     "execution_count": 171,
     "metadata": {},
     "output_type": "execute_result"
    }
   ],
   "source": [
    "df.groupby('hardware_install_repair_class').hardware_install_repair_class.count()"
   ]
  },
  {
   "cell_type": "markdown",
   "id": "fdc54cfc-33ea-4b2e-90f1-420dbe61367d",
   "metadata": {},
   "source": [
    "   "
   ]
  },
  {
   "cell_type": "markdown",
   "id": "ae2f9766-6cab-4ef7-b2f2-5463091496ca",
   "metadata": {},
   "source": [
    "*Summary of the 'Yes' and 'No' counts for each column/motivation.*"
   ]
  },
  {
   "cell_type": "markdown",
   "id": "2eb12266-e348-4f8f-ba7c-8004ef74fb3d",
   "metadata": {},
   "source": [
    "Web Development: 16 Yes, 54 No\n",
    "\n",
    "**CyberSecurity: 29 Yes, 41 No**\n",
    "\n",
    "App Development: 15 Yes, 55 No\n",
    "\n",
    "Data Analytics: 15 Yes, 55 No\n",
    "\n",
    "Machine Learning/Artificial Intelligence: 14 Yes, 56 No\n",
    "\n",
    "Computer Programming: 14 Yes, 56 No\n",
    "\n",
    "Game Design: 18 Yes, 52 No\n",
    "\n",
    "Hardware Installation & Repair: 15 Yes, 55 No\n"
   ]
  },
  {
   "cell_type": "markdown",
   "id": "167fcada-57f1-41e5-8902-44c0353045f4",
   "metadata": {},
   "source": [
    "**Answer: The computing class that most non-major students are interested in is 'Cybersecurity'. The ranking of classes that these students are most interested in to least interested in is: 'Cybersecurity', 'Game Design', 'Web Development', 'App Development' and 'Data Analytics' and 'Hardware Installation & Repair' tied, and 'Computer Programming' and 'Machine Learning/Artificial Intelligence' tied.**"
   ]
  },
  {
   "cell_type": "markdown",
   "id": "dcd2f7b5-9f4a-4a50-9d04-f297dda18d12",
   "metadata": {},
   "source": [
    "   "
   ]
  },
  {
   "cell_type": "markdown",
   "id": "7ea260a6-6ba7-4fba-8041-5a4356e65ccf",
   "metadata": {},
   "source": [
    "**Question #4: How many students from each major (the count) are enrolled in a computer literacy course? (Make a bar graph representing the count for each major.)**"
   ]
  },
  {
   "cell_type": "markdown",
   "id": "16fbc927-7971-468c-ae80-a668b14469e8",
   "metadata": {},
   "source": [
    "*Using the groupby function to find the count/number of students in each major.*"
   ]
  },
  {
   "cell_type": "code",
   "execution_count": 172,
   "id": "1893607f-7d0e-422f-be64-079e7a178c01",
   "metadata": {},
   "outputs": [
    {
     "data": {
      "text/plain": [
       "major\n",
       "Broadcasting Arts and Technology     3\n",
       "Liberal Arts                        52\n",
       "Nursing                              4\n",
       "Radiography                         11\n",
       "major                                1\n",
       "Name: major, dtype: int64"
      ]
     },
     "execution_count": 172,
     "metadata": {},
     "output_type": "execute_result"
    }
   ],
   "source": [
    "df.groupby('major').major.count()"
   ]
  },
  {
   "cell_type": "markdown",
   "id": "3a8e6ee0-3766-4320-ac18-869942e94c7e",
   "metadata": {},
   "source": [
    "   "
   ]
  },
  {
   "cell_type": "markdown",
   "id": "64f8a80b-ac85-4802-903d-9574f6bd36ed",
   "metadata": {},
   "source": [
    "*Creating a chart of data that I want to use to create the bar chart.*"
   ]
  },
  {
   "cell_type": "code",
   "execution_count": 177,
   "id": "8070a6aa-4c54-4ef0-a9a7-e362c512d1cb",
   "metadata": {
    "scrolled": true
   },
   "outputs": [
    {
     "data": {
      "text/plain": [
       "major\n",
       "Liberal Arts                        52\n",
       "Radiography                         11\n",
       "Nursing                              4\n",
       "Broadcasting Arts and Technology     3\n",
       "Name: count, dtype: int64"
      ]
     },
     "execution_count": 177,
     "metadata": {},
     "output_type": "execute_result"
    }
   ],
   "source": [
    "majors_count = df['major'].value_counts()\n",
    "majors_count = majors_count.drop(['major'])\n",
    "majors_count"
   ]
  },
  {
   "cell_type": "markdown",
   "id": "887413aa-3005-4c90-8f55-2e02409bc6a9",
   "metadata": {},
   "source": [
    "   "
   ]
  },
  {
   "cell_type": "markdown",
   "id": "03017ae2-aa9c-457c-a713-10355bf33adf",
   "metadata": {},
   "source": [
    "*Plotting each major in a bar graph to visualize the number of students in each major.*"
   ]
  },
  {
   "cell_type": "code",
   "execution_count": 178,
   "id": "196b4f72-93e9-460d-9bea-8ee5607b3e5a",
   "metadata": {},
   "outputs": [
    {
     "data": {
      "image/png": "[encoded data removed]",
      "text/plain": [
       "<Figure size 640x480 with 1 Axes>"
      ]
     },
     "metadata": {},
     "output_type": "display_data"
    }
   ],
   "source": [
    "colors = ['red', 'green', 'blue', 'pink']\n",
    "plt.bar(majors_count.index, majors_count.values, color=colors)\n",
    "plt.title(\"Majors of Each Non-Computer-Major Students Enrolled in a Computing Course\")\n",
    "plt.xlabel(\"Major\")\n",
    "plt.ylabel(\"Number of Students\")\n",
    "plt.xticks(rotation=45, ha='right') \n",
    "plt.tight_layout()"
   ]
  },
  {
   "cell_type": "code",
   "execution_count": null,
   "id": "11a03d2f-1918-4e5c-95b0-05bcc55edfdc",
   "metadata": {},
   "outputs": [],
   "source": []
  }
 ],
 "metadata": {
  "kernelspec": {
   "display_name": "Python 3 (ipykernel)",
   "language": "python",
   "name": "python3"
  },
  "language_info": {
   "codemirror_mode": {
    "name": "ipython",
    "version": 3
   },
   "file_extension": ".py",
   "mimetype": "text/x-python",
   "name": "python",
   "nbconvert_exporter": "python",
   "pygments_lexer": "ipython3",
   "version": "3.11.7"
  }
 },
 "nbformat": 4,
 "nbformat_minor": 5
}
